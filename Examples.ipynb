{
 "cells": [
  {
   "cell_type": "code",
   "execution_count": 1,
   "metadata": {
    "collapsed": false
   },
   "outputs": [
   ],
   "source": [
    "%load_ext sage"
   ]
  },
  {
   "cell_type": "code",
   "execution_count": 10,
   "metadata": {
    "collapsed": false
   },
   "outputs": [
    {
     "name": "stdout",
     "output_type": "stream",
     "text": [
      "This is the gamma matrix for the curve y^2=x^ 9 -x\n",
      "\n",
      "[ 0  0| 0  0| 1  0| 0  0]\n",
      "[ 0  0| 0  0| 0  1| 0  0]\n",
      "[-----+-----+-----+-----]\n",
      "[ 0 -1| 0  0| 0  0| 0  0]\n",
      "[ 1  0| 0  0| 0  0| 0  0]\n",
      "[-----+-----+-----+-----]\n",
      "[ 0  0| 0  0| 0  0| 0  1]\n",
      "[ 0  0| 0  0| 0  0|-1  0]\n",
      "[-----+-----+-----+-----]\n",
      "[ 0  0| 1  0| 0  0| 0  0]\n",
      "[ 0  0| 0  1| 0  0| 0  0]\n",
      "\n",
      "Here is the gamma_c matrix:\n",
      "[-z^5    0|   0    0|   0    0|   0    0]\n",
      "[   0 -z^5|   0    0|   0    0|   0    0]\n",
      "[---------+---------+---------+---------]\n",
      "[   0    0|-z^7    0|   0    0|   0    0]\n",
      "[   0    0|   0 -z^7|   0    0|   0    0]\n",
      "[---------+---------+---------+---------]\n",
      "[   0    0|   0    0|   z    0|   0    0]\n",
      "[   0    0|   0    0|   0    z|   0    0]\n",
      "[---------+---------+---------+---------]\n",
      "[   0    0|   0    0|   0    0| z^3    0]\n",
      "[   0    0|   0    0|   0    0|   0  z^3]\n",
      "\n",
      "Here are the characteristic polynomials for y^2=x^ 9 -cx\n",
      "To save space, it only prints the a_n coefficient, with default a_1\n",
      "\n"
     ]
    },
    {
     "name": "stdout",
     "output_type": "stream",
     "text": [
      "i= 0 (-2*u0^2*u1 - 2*u0*u1^2 - 2*u0 - 2*u1)/(u0*u1)\n",
      "\n"
     ]
    },
    {
     "name": "stdout",
     "output_type": "stream",
     "text": [
      "i= 1 ((z^7 - z^3)*u0^2*u1 + (z^5 - z)*u0*u1^2 + (z^5 - z)*u0 + (z^7 - z^3)*u1)/(u0*u1)\n",
      "\n",
      "i= 2 0\n",
      "\n"
     ]
    },
    {
     "name": "stdout",
     "output_type": "stream",
     "text": [
      "i= 3 ((z^5 + z)*u0^2*u1 + (-z^7 - z^3)*u0*u1^2 + (-z^7 - z^3)*u0 + (z^5 + z)*u1)/(u0*u1)\n",
      "\n"
     ]
    },
    {
     "name": "stdout",
     "output_type": "stream",
     "text": [
      "i= 4 ((2*z^4)*u0^2*u1 + (-2*z^4)*u0*u1^2 + (-2*z^4)*u0 + (2*z^4)*u1)/(u0*u1)\n",
      "\n"
     ]
    },
    {
     "name": "stdout",
     "output_type": "stream",
     "text": [
      "i= 5 ((z^7 + z^3)*u0^2*u1 + (-z^5 - z)*u0*u1^2 + (-z^5 - z)*u0 + (z^7 + z^3)*u1)/(u0*u1)\n",
      "\n",
      "i= 6 0\n",
      "\n"
     ]
    },
    {
     "name": "stdout",
     "output_type": "stream",
     "text": [
      "i= 7 ((-z^5 + z)*u0^2*u1 + (-z^7 + z^3)*u0*u1^2 + (-z^7 + z^3)*u0 + (-z^5 + z)*u1)/(u0*u1)\n",
      "\n"
     ]
    }
   ],
   "source": [
    "load('SatoTateComputations.sage')\n",
    "\n",
    "#Example: y^2=x^9-cx\n",
    "d=3\n",
    "matrixoutputx(d)\n",
    "print(\"\")\n",
    "\n",
    "print(\"Here is the gamma_c matrix:\")\n",
    "print(gammacx(d))\n",
    "print(\"\")\n",
    "\n",
    "charpolycx(d)"
   ]
  },
  {
   "cell_type": "code",
   "execution_count": 0,
   "metadata": {
    "collapsed": false
   },
   "outputs": [
   ],
   "source": [
    "#Moment Statistics\n",
    "#y^2=x^9-cx \n",
    "\n",
    "MomentLista1=[1]\n",
    "List_of_Moments=[]\n",
    "for k in [0..7]:\n",
    "    moments=[]\n",
    "    f(r0,r1)=2*(cos(r0-(2*pi*3*k)/16)+cos(r1-(2*pi*k)/16)+cos(r1+(2*pi*k)/16)+cos(r0+(2*pi*3*k)/16))\n",
    "    for n in [1..5]:\n",
    "        definiteintegral=(1/(2*pi))^(2)*(f(r0,r1)^n).integrate(r0,0,2*pi).integrate(r1,0,2*pi)\n",
    "        moments.append(definiteintegral)\n",
    "    List_of_Moments.append(moments)\n",
    "\n",
    "#full group = order 8 for gamma_c\n",
    "MomentLista1=[1]\n",
    "for m in [0..4]:\n",
    "    n=2*m+1 #just print the odd moments since even moments are 0\n",
    "    MomentLista1.append(float((List_of_Moments[0][n]+List_of_Moments[1][n]+List_of_Moments[2][n]+List_of_Moments[3][n]+List_of_Moments[4][n]+List_of_Moments[5][n]+List_of_Moments[6][n]+List_of_Moments[7][n])/(4*2*8))) #divide by number of elements in component group\n",
    "print('order 8 group: a1 moment stats: ',MomentLista1)\n",
    "\n",
    "#order 4 subgroup\n",
    "MomentLista1=[1]\n",
    "for m in [0..4]:\n",
    "    n=2*m+1 #just print the odd moments since even moments are 0\n",
    "    MomentLista1.append(float((List_of_Moments[0][n]+List_of_Moments[2][n]+List_of_Moments[4][n]+List_of_Moments[6][n])/(4*2*4))) #divide by number of elements in component group\n",
    "print('order 4 subgroup: a1 moment stats: ',MomentLista1)\n",
    "\n",
    "#order 2 subgroup\n",
    "MomentLista1=[1]\n",
    "for m in [0..4]:\n",
    "    n=2*m+1 #just print the odd moments since even moments are 0\n",
    "    MomentLista1.append(float((List_of_Moments[0][n]+List_of_Moments[4][n])/(4*2*2))) #divide by number of elements in component group\n",
    "print('order 2 subgroup: a1 moment stats: ',MomentLista1)\n",
    "\n",
    "#order 1 subgroup\n",
    "MomentLista1=[1]\n",
    "for m in [0..4]:\n",
    "    n=2*m+1 #just print the odd moments since even moments are 0\n",
    "    MomentLista1.append(float((List_of_Moments[0][n])/(4*2*1))) #divide by number of elements in component group\n",
    "print('order 1 subgroup: a1 moment stats: ',MomentLista1)"
   ]
  },
  {
   "cell_type": "code",
   "execution_count": 0,
   "metadata": {
    "collapsed": false
   },
   "outputs": [
   ],
   "source": [
   ]
  }
 ],
 "metadata": {
  "kernelspec": {
   "argv": [
    "sage-10.0",
    "--python",
    "-m",
    "sage.repl.ipython_kernel",
    "--matplotlib=inline",
    "-f",
    "{connection_file}"
   ],
   "display_name": "SageMath 10.0",
   "env": {
   },
   "language": "sagemath",
   "metadata": {
    "cocalc": {
     "description": "Open-source mathematical software system",
     "priority": 1,
     "url": "https://www.sagemath.org/"
    }
   },
   "name": "sage-10.0",
   "resource_dir": "/ext/jupyter/kernels/sage-10.0"
  },
  "language_info": {
   "codemirror_mode": {
    "name": "ipython",
    "version": 3
   },
   "file_extension": ".py",
   "mimetype": "text/x-python",
   "name": "python",
   "nbconvert_exporter": "python",
   "pygments_lexer": "ipython3",
   "version": "3.11.1"
  }
 },
 "nbformat": 4,
 "nbformat_minor": 4
}